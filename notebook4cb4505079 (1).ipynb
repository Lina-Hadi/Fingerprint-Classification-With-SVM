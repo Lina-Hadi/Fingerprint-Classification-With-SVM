{
 "cells": [
  {
   "cell_type": "code",
   "execution_count": 1,
   "metadata": {
    "_cell_guid": "b1076dfc-b9ad-4769-8c92-a6c4dae69d19",
    "_uuid": "8f2839f25d086af736a60e9eeb907d3b93b6e0e5",
    "execution": {
     "iopub.execute_input": "2025-04-11T00:51:34.000719Z",
     "iopub.status.busy": "2025-04-11T00:51:34.000359Z",
     "iopub.status.idle": "2025-04-11T00:51:35.061612Z",
     "shell.execute_reply": "2025-04-11T00:51:35.060381Z",
     "shell.execute_reply.started": "2025-04-11T00:51:34.000698Z"
    },
    "trusted": true
   },
   "outputs": [
    {
     "ename": "ModuleNotFoundError",
     "evalue": "No module named 'matplotlib'",
     "output_type": "error",
     "traceback": [
      "\u001b[0;31m---------------------------------------------------------------------------\u001b[0m",
      "\u001b[0;31mModuleNotFoundError\u001b[0m                       Traceback (most recent call last)",
      "Cell \u001b[0;32mIn[1], line 4\u001b[0m\n\u001b[1;32m      2\u001b[0m \u001b[38;5;28;01mimport\u001b[39;00m\u001b[38;5;250m \u001b[39m\u001b[38;5;21;01mos\u001b[39;00m\n\u001b[1;32m      3\u001b[0m \u001b[38;5;28;01mimport\u001b[39;00m\u001b[38;5;250m \u001b[39m\u001b[38;5;21;01mnumpy\u001b[39;00m\u001b[38;5;250m \u001b[39m\u001b[38;5;28;01mas\u001b[39;00m\u001b[38;5;250m \u001b[39m\u001b[38;5;21;01mnp\u001b[39;00m\n\u001b[0;32m----> 4\u001b[0m \u001b[38;5;28;01mimport\u001b[39;00m\u001b[38;5;250m \u001b[39m\u001b[38;5;21;01mmatplotlib\u001b[39;00m\u001b[38;5;21;01m.\u001b[39;00m\u001b[38;5;21;01mpyplot\u001b[39;00m\u001b[38;5;250m \u001b[39m\u001b[38;5;28;01mas\u001b[39;00m\u001b[38;5;250m \u001b[39m\u001b[38;5;21;01mplt\u001b[39;00m\n\u001b[1;32m      6\u001b[0m img_dir \u001b[38;5;241m=\u001b[39m \u001b[38;5;124m\"\u001b[39m\u001b[38;5;124m/kaggle/input/fingerprint-dataset-for-fvc2000-db4-b/dataset_FVC2000_DB4_B/dataset/train_data\u001b[39m\u001b[38;5;124m\"\u001b[39m\n\u001b[1;32m      7\u001b[0m images \u001b[38;5;241m=\u001b[39m []\n",
      "\u001b[0;31mModuleNotFoundError\u001b[0m: No module named 'matplotlib'"
     ]
    }
   ],
   "source": [
    "import cv2\n",
    "import os\n",
    "import numpy as np\n",
    "import matplotlib.pyplot as plt\n",
    "\n",
    "img_dir = \"/kaggle/input/fingerprint-dataset-for-fvc2000-db4-b/dataset_FVC2000_DB4_B/dataset/train_data\"\n",
    "images = []\n",
    "labels = []\n",
    "\n",
    "for filename in os.listdir(img_dir):\n",
    "    if filename.endswith(\".bmp\") or filename.endswith(\".png\") or filename.endswith(\".tif\"):\n",
    "        img_path = os.path.join(img_dir, filename)\n",
    "        img = cv2.imread(img_path, cv2.IMREAD_GRAYSCALE)\n",
    "        \n",
    "        \n",
    "        img = cv2.resize(img, (128, 128))\n",
    "        images.append(img)\n",
    "\n",
    "        \n",
    "        label = filename.split(\"_\")[0]  \n",
    "        labels.append(label)\n",
    "        \n",
    "\n",
    "\n",
    "\n",
    "\n"
   ]
  },
  {
   "cell_type": "code",
   "execution_count": null,
   "metadata": {
    "trusted": true
   },
   "outputs": [],
   "source": []
  },
  {
   "cell_type": "code",
   "execution_count": null,
   "metadata": {
    "trusted": true
   },
   "outputs": [],
   "source": []
  },
  {
   "cell_type": "code",
   "execution_count": null,
   "metadata": {
    "execution": {
     "iopub.execute_input": "2025-04-11T00:51:35.063977Z",
     "iopub.status.busy": "2025-04-11T00:51:35.063630Z",
     "iopub.status.idle": "2025-04-11T00:51:40.848970Z",
     "shell.execute_reply": "2025-04-11T00:51:40.848073Z",
     "shell.execute_reply.started": "2025-04-11T00:51:35.063948Z"
    },
    "trusted": true
   },
   "outputs": [],
   "source": [
    "from skimage.feature import hog\n",
    "import numpy as np\n",
    "from sklearn.svm import SVC\n",
    "from sklearn.model_selection import train_test_split\n",
    "from sklearn.preprocessing import LabelEncoder\n",
    "\n",
    "# Assuming images and labels are already defined\n",
    "hog_features = []\n",
    "\n",
    "# Maximum length of the features for consistent shape\n",
    "max_feature_length = 0\n",
    "\n",
    "# Extract HOG features from each image\n",
    "for image in images:\n",
    "    features = hog(image, orientations=9, pixels_per_cell=(8, 8),\n",
    "                   cells_per_block=(2, 2), block_norm='L2-Hys')\n",
    "\n",
    "    \n",
    "\n",
    "    # Update max_feature_length\n",
    "    max_feature_length = max(max_feature_length, len(features))\n",
    "\n",
    "    # Append the filtered features\n",
    "    hog_features.append(features)\n",
    "\n",
    "# Pad features to ensure they all have the same length\n",
    "for i in range(len(hog_features)):\n",
    "    feature_len = len(hog_features[i])\n",
    "    if feature_len < max_feature_length:\n",
    "        # Pad with zeros to match the maximum length\n",
    "        hog_features[i] = np.pad(hog_features[i], (0, max_feature_length - feature_len), 'constant')\n",
    "\n",
    "# Convert the features to a numpy array for SVM\n",
    "X = np.array(hog_features)\n",
    "\n",
    "# Encode labels\n",
    "le = LabelEncoder()\n",
    "y = le.fit_transform(labels)\n",
    "\n",
    "\n",
    "\n"
   ]
  },
  {
   "cell_type": "code",
   "execution_count": null,
   "metadata": {
    "execution": {
     "iopub.execute_input": "2025-04-11T00:51:40.850095Z",
     "iopub.status.busy": "2025-04-11T00:51:40.849823Z",
     "iopub.status.idle": "2025-04-11T00:51:44.082177Z",
     "shell.execute_reply": "2025-04-11T00:51:44.080900Z",
     "shell.execute_reply.started": "2025-04-11T00:51:40.850076Z"
    },
    "trusted": true
   },
   "outputs": [
    {
     "name": "stdout",
     "output_type": "stream",
     "text": [
      "Accuracy with polynomial kernel: 0.85625\n"
     ]
    }
   ],
   "source": [
    "from sklearn.svm import SVC\n",
    "from sklearn.model_selection import train_test_split\n",
    "from sklearn.preprocessing import LabelEncoder\n",
    "\n",
    "# Encoder les labels texte\n",
    "le = LabelEncoder()\n",
    "y = le.fit_transform(labels)\n",
    "\n",
    "# Séparation en train/test\n",
    "X_train, X_test, y_train, y_test = train_test_split(hog_features, y, test_size=0.2, random_state=42)\n",
    "\n",
    "# Créer et entraîner le SVM avec le noyau polynomial\n",
    "clf = SVC(kernel='poly')  # Par défaut, degré=3\n",
    "clf.fit(X_train, y_train)\n",
    "\n",
    "# Évaluer la précision\n",
    "accuracy = clf.score(X_test, y_test)\n",
    "print(f\"Accuracy with polynomial kernel: {accuracy}\")\n",
    "\n",
    "\n"
   ]
  }
 ],
 "metadata": {
  "kaggle": {
   "accelerator": "none",
   "dataSources": [
    {
     "datasetId": 530335,
     "sourceId": 1071804,
     "sourceType": "datasetVersion"
    }
   ],
   "dockerImageVersionId": 31012,
   "isGpuEnabled": false,
   "isInternetEnabled": false,
   "language": "python",
   "sourceType": "notebook"
  },
  "kernelspec": {
   "display_name": "venv",
   "language": "python",
   "name": "python3"
  },
  "language_info": {
   "codemirror_mode": {
    "name": "ipython",
    "version": 3
   },
   "file_extension": ".py",
   "mimetype": "text/x-python",
   "name": "python",
   "nbconvert_exporter": "python",
   "pygments_lexer": "ipython3",
   "version": "3.9.11"
  }
 },
 "nbformat": 4,
 "nbformat_minor": 4
}
